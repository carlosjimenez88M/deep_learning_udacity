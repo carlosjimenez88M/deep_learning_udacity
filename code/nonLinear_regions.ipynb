{
 "cells": [
  {
   "cell_type": "code",
   "execution_count": null,
   "metadata": {},
   "outputs": [],
   "source": [
    "\n"
   ]
  },
  {
   "cell_type": "markdown",
   "metadata": {},
   "source": [
    "## log loss error function\n",
    "\n",
    "Los errores se deben trabajar o entender como discretos o continuos \n",
    "\n",
    "\n",
    "Lo haremos en esta lección usando la función de error de pérdida de registro. En términos generales, la función de pérdida de registro asignará una penalización grande a los puntos clasificados incorrectamente y penalizaciones pequeñas a los puntos clasificados correctamente. Para un punto mal clasificado, la penalización es aproximadamente la distancia desde el límite hasta el punto. Por un punto que se clasifique correctamente, la penalización es casi nula.\n",
    "\n",
    "\n",
    "Dada las sumatorias en las diferentes alternativas de esto, se dice que se minimiza los errores cuando la sumatoria de los pasos anteriores sea pequeña\n",
    "\n",
    "## Predictions\n",
    "\n",
    "* Es la respuesta a un algoritmo\n",
    "* Puede ser discreta como : Yes or No\n",
    "* Continua : Números\n",
    "\n",
    "La forma como nos movemos entre las prediciones discretas a las continuas es con un simple cambio en la función de activación. Se pasa de la función discreta a la continua con o a través de la sigmoide, donde los valores positivos se acercan a uno y los negativos a cero.\n",
    "\n",
    "$$\n",
    "\\theta(x) = \\frac{1}{1+e^(-X)}\n",
    "$$\n",
    "\n",
    "![](images/image1.png)"
   ]
  },
  {
   "cell_type": "markdown",
   "metadata": {},
   "source": [
    "Como se ve en la anterior imagen, las probabilidades deben ser interpretadas de esta manera : 80% azul 20% rojo.\n",
    "\n",
    "Para obtener estas probabilidades es necesario combinar las funciones linealews con la sigmoide, por ejemplo suponga que esta en el plano que el valor es -2 , entonces iguala la función lineal uy se le pasa los valores a la sigmoide, donde este -2 pasarīa a ser un 0.3\n",
    "\n",
    "Esto llevado a los perceptrones es la función de activación \n",
    "\n",
    "### Quiz \n",
    "\n",
    "teniendo una formula con la sigiuiente forma \n",
    "\n",
    "\n",
    "$$\n",
    "4x_1 + 5x_2 -9. \n",
    "$$\n",
    "\n",
    "Con que combinación de datos esto se vuelve una probabilidad del 50%??"
   ]
  },
  {
   "cell_type": "code",
   "execution_count": 14,
   "metadata": {},
   "outputs": [],
   "source": [
    "import numpy as np\n",
    "import math\n",
    "def sigmoid(x):\n",
    "  return 1 / (1 + math.exp(-x))\n"
   ]
  },
  {
   "cell_type": "code",
   "execution_count": 16,
   "metadata": {},
   "outputs": [],
   "source": [
    "def ecuation(x1,x2):\n",
    "    formula = (4*x1)+(5*x2)-9\n",
    "    return formula\n",
    "    \n"
   ]
  },
  {
   "cell_type": "code",
   "execution_count": 21,
   "metadata": {},
   "outputs": [
    {
     "data": {
      "text/plain": [
       "0.5"
      ]
     },
     "execution_count": 21,
     "metadata": {},
     "output_type": "execute_result"
    }
   ],
   "source": [
    "sigmoid(ecuation(-4,5))\n",
    "sigmoid(ecuation(1,1))\n"
   ]
  },
  {
   "cell_type": "markdown",
   "metadata": {},
   "source": [
    "## Softmax\n",
    "Es cuando se vuelve exponencial cada uno de los scores de multiples clasificaciones que se deseen trabajar"
   ]
  },
  {
   "cell_type": "markdown",
   "metadata": {},
   "source": [
    "## One-Hot Encoding\n",
    "Convertir valores cateogricos en numericos binomiales a traves de una amtriz"
   ]
  },
  {
   "cell_type": "markdown",
   "metadata": {},
   "source": [
    "## Maximum Likelihood (máxima verosimilitud)\n",
    "\n",
    "Es la selección de labels que tienen alta probabilidad de ser el valor buscado"
   ]
  },
  {
   "cell_type": "code",
   "execution_count": null,
   "metadata": {},
   "outputs": [],
   "source": []
  }
 ],
 "metadata": {
  "interpreter": {
   "hash": "b3620dc38f92db2f4a6e33de80f0f6f2a1528b9768c1247a8c27b3c40514187b"
  },
  "kernelspec": {
   "display_name": "Python 3.8.13 ('tf_m1')",
   "language": "python",
   "name": "python3"
  },
  "language_info": {
   "codemirror_mode": {
    "name": "ipython",
    "version": 3
   },
   "file_extension": ".py",
   "mimetype": "text/x-python",
   "name": "python",
   "nbconvert_exporter": "python",
   "pygments_lexer": "ipython3",
   "version": "3.8.13"
  },
  "orig_nbformat": 4
 },
 "nbformat": 4,
 "nbformat_minor": 2
}
